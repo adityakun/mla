{
 "cells": [
  {
   "cell_type": "markdown",
   "id": "7335b514-f0a9-4ea1-b434-56df09f9707d",
   "metadata": {},
   "source": [
    "# Principal Component Analysis"
   ]
  },
  {
   "cell_type": "code",
   "execution_count": 1,
   "id": "18089aaf-e981-4a5c-9d63-b6d7fb5ce433",
   "metadata": {},
   "outputs": [],
   "source": [
    "import pandas as pd\n",
    "import numpy as np\n",
    "import matplotlib.pyplot as plt"
   ]
  },
  {
   "cell_type": "code",
   "execution_count": 2,
   "id": "0d8140a7-3182-4939-bf49-406ea219eaf0",
   "metadata": {},
   "outputs": [
    {
     "data": {
      "text/html": [
       "<div>\n",
       "<style scoped>\n",
       "    .dataframe tbody tr th:only-of-type {\n",
       "        vertical-align: middle;\n",
       "    }\n",
       "\n",
       "    .dataframe tbody tr th {\n",
       "        vertical-align: top;\n",
       "    }\n",
       "\n",
       "    .dataframe thead th {\n",
       "        text-align: right;\n",
       "    }\n",
       "</style>\n",
       "<table border=\"1\" class=\"dataframe\">\n",
       "  <thead>\n",
       "    <tr style=\"text-align: right;\">\n",
       "      <th></th>\n",
       "      <th>Wine</th>\n",
       "      <th>Alcohol</th>\n",
       "      <th>Malic.acid</th>\n",
       "      <th>Ash</th>\n",
       "      <th>Acl</th>\n",
       "      <th>Mg</th>\n",
       "      <th>Phenols</th>\n",
       "      <th>Flavanoids</th>\n",
       "      <th>Nonflavanoid.phenols</th>\n",
       "      <th>Proanth</th>\n",
       "      <th>Color.int</th>\n",
       "      <th>Hue</th>\n",
       "      <th>OD</th>\n",
       "      <th>Proline</th>\n",
       "    </tr>\n",
       "  </thead>\n",
       "  <tbody>\n",
       "    <tr>\n",
       "      <th>0</th>\n",
       "      <td>1</td>\n",
       "      <td>14.23</td>\n",
       "      <td>1.71</td>\n",
       "      <td>2.43</td>\n",
       "      <td>15.6</td>\n",
       "      <td>127</td>\n",
       "      <td>2.80</td>\n",
       "      <td>3.06</td>\n",
       "      <td>0.28</td>\n",
       "      <td>2.29</td>\n",
       "      <td>5.64</td>\n",
       "      <td>1.04</td>\n",
       "      <td>3.92</td>\n",
       "      <td>1065</td>\n",
       "    </tr>\n",
       "    <tr>\n",
       "      <th>1</th>\n",
       "      <td>1</td>\n",
       "      <td>13.20</td>\n",
       "      <td>1.78</td>\n",
       "      <td>2.14</td>\n",
       "      <td>11.2</td>\n",
       "      <td>100</td>\n",
       "      <td>2.65</td>\n",
       "      <td>2.76</td>\n",
       "      <td>0.26</td>\n",
       "      <td>1.28</td>\n",
       "      <td>4.38</td>\n",
       "      <td>1.05</td>\n",
       "      <td>3.40</td>\n",
       "      <td>1050</td>\n",
       "    </tr>\n",
       "    <tr>\n",
       "      <th>2</th>\n",
       "      <td>1</td>\n",
       "      <td>13.16</td>\n",
       "      <td>2.36</td>\n",
       "      <td>2.67</td>\n",
       "      <td>18.6</td>\n",
       "      <td>101</td>\n",
       "      <td>2.80</td>\n",
       "      <td>3.24</td>\n",
       "      <td>0.30</td>\n",
       "      <td>2.81</td>\n",
       "      <td>5.68</td>\n",
       "      <td>1.03</td>\n",
       "      <td>3.17</td>\n",
       "      <td>1185</td>\n",
       "    </tr>\n",
       "    <tr>\n",
       "      <th>3</th>\n",
       "      <td>1</td>\n",
       "      <td>14.37</td>\n",
       "      <td>1.95</td>\n",
       "      <td>2.50</td>\n",
       "      <td>16.8</td>\n",
       "      <td>113</td>\n",
       "      <td>3.85</td>\n",
       "      <td>3.49</td>\n",
       "      <td>0.24</td>\n",
       "      <td>2.18</td>\n",
       "      <td>7.80</td>\n",
       "      <td>0.86</td>\n",
       "      <td>3.45</td>\n",
       "      <td>1480</td>\n",
       "    </tr>\n",
       "    <tr>\n",
       "      <th>4</th>\n",
       "      <td>1</td>\n",
       "      <td>13.24</td>\n",
       "      <td>2.59</td>\n",
       "      <td>2.87</td>\n",
       "      <td>21.0</td>\n",
       "      <td>118</td>\n",
       "      <td>2.80</td>\n",
       "      <td>2.69</td>\n",
       "      <td>0.39</td>\n",
       "      <td>1.82</td>\n",
       "      <td>4.32</td>\n",
       "      <td>1.04</td>\n",
       "      <td>2.93</td>\n",
       "      <td>735</td>\n",
       "    </tr>\n",
       "    <tr>\n",
       "      <th>...</th>\n",
       "      <td>...</td>\n",
       "      <td>...</td>\n",
       "      <td>...</td>\n",
       "      <td>...</td>\n",
       "      <td>...</td>\n",
       "      <td>...</td>\n",
       "      <td>...</td>\n",
       "      <td>...</td>\n",
       "      <td>...</td>\n",
       "      <td>...</td>\n",
       "      <td>...</td>\n",
       "      <td>...</td>\n",
       "      <td>...</td>\n",
       "      <td>...</td>\n",
       "    </tr>\n",
       "    <tr>\n",
       "      <th>173</th>\n",
       "      <td>3</td>\n",
       "      <td>13.71</td>\n",
       "      <td>5.65</td>\n",
       "      <td>2.45</td>\n",
       "      <td>20.5</td>\n",
       "      <td>95</td>\n",
       "      <td>1.68</td>\n",
       "      <td>0.61</td>\n",
       "      <td>0.52</td>\n",
       "      <td>1.06</td>\n",
       "      <td>7.70</td>\n",
       "      <td>0.64</td>\n",
       "      <td>1.74</td>\n",
       "      <td>740</td>\n",
       "    </tr>\n",
       "    <tr>\n",
       "      <th>174</th>\n",
       "      <td>3</td>\n",
       "      <td>13.40</td>\n",
       "      <td>3.91</td>\n",
       "      <td>2.48</td>\n",
       "      <td>23.0</td>\n",
       "      <td>102</td>\n",
       "      <td>1.80</td>\n",
       "      <td>0.75</td>\n",
       "      <td>0.43</td>\n",
       "      <td>1.41</td>\n",
       "      <td>7.30</td>\n",
       "      <td>0.70</td>\n",
       "      <td>1.56</td>\n",
       "      <td>750</td>\n",
       "    </tr>\n",
       "    <tr>\n",
       "      <th>175</th>\n",
       "      <td>3</td>\n",
       "      <td>13.27</td>\n",
       "      <td>4.28</td>\n",
       "      <td>2.26</td>\n",
       "      <td>20.0</td>\n",
       "      <td>120</td>\n",
       "      <td>1.59</td>\n",
       "      <td>0.69</td>\n",
       "      <td>0.43</td>\n",
       "      <td>1.35</td>\n",
       "      <td>10.20</td>\n",
       "      <td>0.59</td>\n",
       "      <td>1.56</td>\n",
       "      <td>835</td>\n",
       "    </tr>\n",
       "    <tr>\n",
       "      <th>176</th>\n",
       "      <td>3</td>\n",
       "      <td>13.17</td>\n",
       "      <td>2.59</td>\n",
       "      <td>2.37</td>\n",
       "      <td>20.0</td>\n",
       "      <td>120</td>\n",
       "      <td>1.65</td>\n",
       "      <td>0.68</td>\n",
       "      <td>0.53</td>\n",
       "      <td>1.46</td>\n",
       "      <td>9.30</td>\n",
       "      <td>0.60</td>\n",
       "      <td>1.62</td>\n",
       "      <td>840</td>\n",
       "    </tr>\n",
       "    <tr>\n",
       "      <th>177</th>\n",
       "      <td>3</td>\n",
       "      <td>14.13</td>\n",
       "      <td>4.10</td>\n",
       "      <td>2.74</td>\n",
       "      <td>24.5</td>\n",
       "      <td>96</td>\n",
       "      <td>2.05</td>\n",
       "      <td>0.76</td>\n",
       "      <td>0.56</td>\n",
       "      <td>1.35</td>\n",
       "      <td>9.20</td>\n",
       "      <td>0.61</td>\n",
       "      <td>1.60</td>\n",
       "      <td>560</td>\n",
       "    </tr>\n",
       "  </tbody>\n",
       "</table>\n",
       "<p>178 rows × 14 columns</p>\n",
       "</div>"
      ],
      "text/plain": [
       "     Wine  Alcohol  Malic.acid   Ash   Acl   Mg  Phenols  Flavanoids  \\\n",
       "0       1    14.23        1.71  2.43  15.6  127     2.80        3.06   \n",
       "1       1    13.20        1.78  2.14  11.2  100     2.65        2.76   \n",
       "2       1    13.16        2.36  2.67  18.6  101     2.80        3.24   \n",
       "3       1    14.37        1.95  2.50  16.8  113     3.85        3.49   \n",
       "4       1    13.24        2.59  2.87  21.0  118     2.80        2.69   \n",
       "..    ...      ...         ...   ...   ...  ...      ...         ...   \n",
       "173     3    13.71        5.65  2.45  20.5   95     1.68        0.61   \n",
       "174     3    13.40        3.91  2.48  23.0  102     1.80        0.75   \n",
       "175     3    13.27        4.28  2.26  20.0  120     1.59        0.69   \n",
       "176     3    13.17        2.59  2.37  20.0  120     1.65        0.68   \n",
       "177     3    14.13        4.10  2.74  24.5   96     2.05        0.76   \n",
       "\n",
       "     Nonflavanoid.phenols  Proanth  Color.int   Hue    OD  Proline  \n",
       "0                    0.28     2.29       5.64  1.04  3.92     1065  \n",
       "1                    0.26     1.28       4.38  1.05  3.40     1050  \n",
       "2                    0.30     2.81       5.68  1.03  3.17     1185  \n",
       "3                    0.24     2.18       7.80  0.86  3.45     1480  \n",
       "4                    0.39     1.82       4.32  1.04  2.93      735  \n",
       "..                    ...      ...        ...   ...   ...      ...  \n",
       "173                  0.52     1.06       7.70  0.64  1.74      740  \n",
       "174                  0.43     1.41       7.30  0.70  1.56      750  \n",
       "175                  0.43     1.35      10.20  0.59  1.56      835  \n",
       "176                  0.53     1.46       9.30  0.60  1.62      840  \n",
       "177                  0.56     1.35       9.20  0.61  1.60      560  \n",
       "\n",
       "[178 rows x 14 columns]"
      ]
     },
     "execution_count": 2,
     "metadata": {},
     "output_type": "execute_result"
    }
   ],
   "source": [
    "wine=pd.read_csv('wine.csv')\n",
    "wine"
   ]
  },
  {
   "cell_type": "code",
   "execution_count": 3,
   "id": "1f0a3f55-994c-433f-b24b-bc5ae27eabff",
   "metadata": {},
   "outputs": [
    {
     "data": {
      "text/plain": [
       "Wine                    0\n",
       "Alcohol                 0\n",
       "Malic.acid              0\n",
       "Ash                     0\n",
       "Acl                     0\n",
       "Mg                      0\n",
       "Phenols                 0\n",
       "Flavanoids              0\n",
       "Nonflavanoid.phenols    0\n",
       "Proanth                 0\n",
       "Color.int               0\n",
       "Hue                     0\n",
       "OD                      0\n",
       "Proline                 0\n",
       "dtype: int64"
      ]
     },
     "execution_count": 3,
     "metadata": {},
     "output_type": "execute_result"
    }
   ],
   "source": [
    "wine.isnull().sum()"
   ]
  },
  {
   "cell_type": "markdown",
   "id": "14b54b14-051b-49ee-927e-9533173970e1",
   "metadata": {},
   "source": [
    "## Preprocessing"
   ]
  },
  {
   "cell_type": "code",
   "execution_count": 4,
   "id": "e6ea0631-5547-48fc-b5cc-a340e3ee9dee",
   "metadata": {},
   "outputs": [
    {
     "data": {
      "text/plain": [
       "0      1\n",
       "1      1\n",
       "2      1\n",
       "3      1\n",
       "4      1\n",
       "      ..\n",
       "173    3\n",
       "174    3\n",
       "175    3\n",
       "176    3\n",
       "177    3\n",
       "Name: Wine, Length: 178, dtype: int64"
      ]
     },
     "execution_count": 4,
     "metadata": {},
     "output_type": "execute_result"
    }
   ],
   "source": [
    "y=wine['Wine']\n",
    "y"
   ]
  },
  {
   "cell_type": "code",
   "execution_count": 5,
   "id": "0daa576c-b306-46b5-9758-5646513f134d",
   "metadata": {},
   "outputs": [
    {
     "data": {
      "text/plain": [
       "array([1, 2, 3])"
      ]
     },
     "execution_count": 5,
     "metadata": {},
     "output_type": "execute_result"
    }
   ],
   "source": [
    "y.unique()"
   ]
  },
  {
   "cell_type": "code",
   "execution_count": 6,
   "id": "e38ddb84-9606-408f-9966-919c977309ff",
   "metadata": {},
   "outputs": [
    {
     "data": {
      "text/html": [
       "<div>\n",
       "<style scoped>\n",
       "    .dataframe tbody tr th:only-of-type {\n",
       "        vertical-align: middle;\n",
       "    }\n",
       "\n",
       "    .dataframe tbody tr th {\n",
       "        vertical-align: top;\n",
       "    }\n",
       "\n",
       "    .dataframe thead th {\n",
       "        text-align: right;\n",
       "    }\n",
       "</style>\n",
       "<table border=\"1\" class=\"dataframe\">\n",
       "  <thead>\n",
       "    <tr style=\"text-align: right;\">\n",
       "      <th></th>\n",
       "      <th>Alcohol</th>\n",
       "      <th>Malic.acid</th>\n",
       "      <th>Ash</th>\n",
       "      <th>Acl</th>\n",
       "      <th>Mg</th>\n",
       "      <th>Phenols</th>\n",
       "      <th>Flavanoids</th>\n",
       "      <th>Nonflavanoid.phenols</th>\n",
       "      <th>Proanth</th>\n",
       "      <th>Color.int</th>\n",
       "      <th>Hue</th>\n",
       "      <th>OD</th>\n",
       "      <th>Proline</th>\n",
       "    </tr>\n",
       "  </thead>\n",
       "  <tbody>\n",
       "    <tr>\n",
       "      <th>0</th>\n",
       "      <td>14.23</td>\n",
       "      <td>1.71</td>\n",
       "      <td>2.43</td>\n",
       "      <td>15.6</td>\n",
       "      <td>127</td>\n",
       "      <td>2.80</td>\n",
       "      <td>3.06</td>\n",
       "      <td>0.28</td>\n",
       "      <td>2.29</td>\n",
       "      <td>5.64</td>\n",
       "      <td>1.04</td>\n",
       "      <td>3.92</td>\n",
       "      <td>1065</td>\n",
       "    </tr>\n",
       "    <tr>\n",
       "      <th>1</th>\n",
       "      <td>13.20</td>\n",
       "      <td>1.78</td>\n",
       "      <td>2.14</td>\n",
       "      <td>11.2</td>\n",
       "      <td>100</td>\n",
       "      <td>2.65</td>\n",
       "      <td>2.76</td>\n",
       "      <td>0.26</td>\n",
       "      <td>1.28</td>\n",
       "      <td>4.38</td>\n",
       "      <td>1.05</td>\n",
       "      <td>3.40</td>\n",
       "      <td>1050</td>\n",
       "    </tr>\n",
       "    <tr>\n",
       "      <th>2</th>\n",
       "      <td>13.16</td>\n",
       "      <td>2.36</td>\n",
       "      <td>2.67</td>\n",
       "      <td>18.6</td>\n",
       "      <td>101</td>\n",
       "      <td>2.80</td>\n",
       "      <td>3.24</td>\n",
       "      <td>0.30</td>\n",
       "      <td>2.81</td>\n",
       "      <td>5.68</td>\n",
       "      <td>1.03</td>\n",
       "      <td>3.17</td>\n",
       "      <td>1185</td>\n",
       "    </tr>\n",
       "    <tr>\n",
       "      <th>3</th>\n",
       "      <td>14.37</td>\n",
       "      <td>1.95</td>\n",
       "      <td>2.50</td>\n",
       "      <td>16.8</td>\n",
       "      <td>113</td>\n",
       "      <td>3.85</td>\n",
       "      <td>3.49</td>\n",
       "      <td>0.24</td>\n",
       "      <td>2.18</td>\n",
       "      <td>7.80</td>\n",
       "      <td>0.86</td>\n",
       "      <td>3.45</td>\n",
       "      <td>1480</td>\n",
       "    </tr>\n",
       "    <tr>\n",
       "      <th>4</th>\n",
       "      <td>13.24</td>\n",
       "      <td>2.59</td>\n",
       "      <td>2.87</td>\n",
       "      <td>21.0</td>\n",
       "      <td>118</td>\n",
       "      <td>2.80</td>\n",
       "      <td>2.69</td>\n",
       "      <td>0.39</td>\n",
       "      <td>1.82</td>\n",
       "      <td>4.32</td>\n",
       "      <td>1.04</td>\n",
       "      <td>2.93</td>\n",
       "      <td>735</td>\n",
       "    </tr>\n",
       "    <tr>\n",
       "      <th>...</th>\n",
       "      <td>...</td>\n",
       "      <td>...</td>\n",
       "      <td>...</td>\n",
       "      <td>...</td>\n",
       "      <td>...</td>\n",
       "      <td>...</td>\n",
       "      <td>...</td>\n",
       "      <td>...</td>\n",
       "      <td>...</td>\n",
       "      <td>...</td>\n",
       "      <td>...</td>\n",
       "      <td>...</td>\n",
       "      <td>...</td>\n",
       "    </tr>\n",
       "    <tr>\n",
       "      <th>173</th>\n",
       "      <td>13.71</td>\n",
       "      <td>5.65</td>\n",
       "      <td>2.45</td>\n",
       "      <td>20.5</td>\n",
       "      <td>95</td>\n",
       "      <td>1.68</td>\n",
       "      <td>0.61</td>\n",
       "      <td>0.52</td>\n",
       "      <td>1.06</td>\n",
       "      <td>7.70</td>\n",
       "      <td>0.64</td>\n",
       "      <td>1.74</td>\n",
       "      <td>740</td>\n",
       "    </tr>\n",
       "    <tr>\n",
       "      <th>174</th>\n",
       "      <td>13.40</td>\n",
       "      <td>3.91</td>\n",
       "      <td>2.48</td>\n",
       "      <td>23.0</td>\n",
       "      <td>102</td>\n",
       "      <td>1.80</td>\n",
       "      <td>0.75</td>\n",
       "      <td>0.43</td>\n",
       "      <td>1.41</td>\n",
       "      <td>7.30</td>\n",
       "      <td>0.70</td>\n",
       "      <td>1.56</td>\n",
       "      <td>750</td>\n",
       "    </tr>\n",
       "    <tr>\n",
       "      <th>175</th>\n",
       "      <td>13.27</td>\n",
       "      <td>4.28</td>\n",
       "      <td>2.26</td>\n",
       "      <td>20.0</td>\n",
       "      <td>120</td>\n",
       "      <td>1.59</td>\n",
       "      <td>0.69</td>\n",
       "      <td>0.43</td>\n",
       "      <td>1.35</td>\n",
       "      <td>10.20</td>\n",
       "      <td>0.59</td>\n",
       "      <td>1.56</td>\n",
       "      <td>835</td>\n",
       "    </tr>\n",
       "    <tr>\n",
       "      <th>176</th>\n",
       "      <td>13.17</td>\n",
       "      <td>2.59</td>\n",
       "      <td>2.37</td>\n",
       "      <td>20.0</td>\n",
       "      <td>120</td>\n",
       "      <td>1.65</td>\n",
       "      <td>0.68</td>\n",
       "      <td>0.53</td>\n",
       "      <td>1.46</td>\n",
       "      <td>9.30</td>\n",
       "      <td>0.60</td>\n",
       "      <td>1.62</td>\n",
       "      <td>840</td>\n",
       "    </tr>\n",
       "    <tr>\n",
       "      <th>177</th>\n",
       "      <td>14.13</td>\n",
       "      <td>4.10</td>\n",
       "      <td>2.74</td>\n",
       "      <td>24.5</td>\n",
       "      <td>96</td>\n",
       "      <td>2.05</td>\n",
       "      <td>0.76</td>\n",
       "      <td>0.56</td>\n",
       "      <td>1.35</td>\n",
       "      <td>9.20</td>\n",
       "      <td>0.61</td>\n",
       "      <td>1.60</td>\n",
       "      <td>560</td>\n",
       "    </tr>\n",
       "  </tbody>\n",
       "</table>\n",
       "<p>178 rows × 13 columns</p>\n",
       "</div>"
      ],
      "text/plain": [
       "     Alcohol  Malic.acid   Ash   Acl   Mg  Phenols  Flavanoids  \\\n",
       "0      14.23        1.71  2.43  15.6  127     2.80        3.06   \n",
       "1      13.20        1.78  2.14  11.2  100     2.65        2.76   \n",
       "2      13.16        2.36  2.67  18.6  101     2.80        3.24   \n",
       "3      14.37        1.95  2.50  16.8  113     3.85        3.49   \n",
       "4      13.24        2.59  2.87  21.0  118     2.80        2.69   \n",
       "..       ...         ...   ...   ...  ...      ...         ...   \n",
       "173    13.71        5.65  2.45  20.5   95     1.68        0.61   \n",
       "174    13.40        3.91  2.48  23.0  102     1.80        0.75   \n",
       "175    13.27        4.28  2.26  20.0  120     1.59        0.69   \n",
       "176    13.17        2.59  2.37  20.0  120     1.65        0.68   \n",
       "177    14.13        4.10  2.74  24.5   96     2.05        0.76   \n",
       "\n",
       "     Nonflavanoid.phenols  Proanth  Color.int   Hue    OD  Proline  \n",
       "0                    0.28     2.29       5.64  1.04  3.92     1065  \n",
       "1                    0.26     1.28       4.38  1.05  3.40     1050  \n",
       "2                    0.30     2.81       5.68  1.03  3.17     1185  \n",
       "3                    0.24     2.18       7.80  0.86  3.45     1480  \n",
       "4                    0.39     1.82       4.32  1.04  2.93      735  \n",
       "..                    ...      ...        ...   ...   ...      ...  \n",
       "173                  0.52     1.06       7.70  0.64  1.74      740  \n",
       "174                  0.43     1.41       7.30  0.70  1.56      750  \n",
       "175                  0.43     1.35      10.20  0.59  1.56      835  \n",
       "176                  0.53     1.46       9.30  0.60  1.62      840  \n",
       "177                  0.56     1.35       9.20  0.61  1.60      560  \n",
       "\n",
       "[178 rows x 13 columns]"
      ]
     },
     "execution_count": 6,
     "metadata": {},
     "output_type": "execute_result"
    }
   ],
   "source": [
    "# Dropping y\n",
    "\n",
    "X= wine.drop(['Wine'],axis=1)\n",
    "X"
   ]
  },
  {
   "cell_type": "code",
   "execution_count": 7,
   "id": "0c7d2fef-3db4-49db-a488-254f930f4438",
   "metadata": {},
   "outputs": [
    {
     "data": {
      "text/plain": [
       "(178, 13)"
      ]
     },
     "execution_count": 7,
     "metadata": {},
     "output_type": "execute_result"
    }
   ],
   "source": [
    "X.shape"
   ]
  },
  {
   "cell_type": "markdown",
   "id": "57b0b3e7-5018-4735-a612-11c4b5fed3e3",
   "metadata": {},
   "source": [
    "## Standardisation"
   ]
  },
  {
   "cell_type": "code",
   "execution_count": 8,
   "id": "0a7669e2-9ca0-47c3-ac45-094866cd2c0b",
   "metadata": {},
   "outputs": [
    {
     "data": {
      "text/plain": [
       "array([[ 1.51861254, -0.5622498 ,  0.23205254, ...,  0.36217728,\n",
       "         1.84791957,  1.01300893],\n",
       "       [ 0.24628963, -0.49941338, -0.82799632, ...,  0.40605066,\n",
       "         1.1134493 ,  0.96524152],\n",
       "       [ 0.19687903,  0.02123125,  1.10933436, ...,  0.31830389,\n",
       "         0.78858745,  1.39514818],\n",
       "       ...,\n",
       "       [ 0.33275817,  1.74474449, -0.38935541, ..., -1.61212515,\n",
       "        -1.48544548,  0.28057537],\n",
       "       [ 0.20923168,  0.22769377,  0.01273209, ..., -1.56825176,\n",
       "        -1.40069891,  0.29649784],\n",
       "       [ 1.39508604,  1.58316512,  1.36520822, ..., -1.52437837,\n",
       "        -1.42894777, -0.59516041]])"
      ]
     },
     "execution_count": 8,
     "metadata": {},
     "output_type": "execute_result"
    }
   ],
   "source": [
    "from sklearn.preprocessing import StandardScaler\n",
    "\n",
    "scaler=StandardScaler()\n",
    "X_scaled=scaler.fit_transform(X)\n",
    "X_scaled"
   ]
  },
  {
   "cell_type": "markdown",
   "id": "9f4f9f98-c55d-4896-8472-18d8d55a9117",
   "metadata": {},
   "source": [
    "## Construction of covairance matrix"
   ]
  },
  {
   "cell_type": "code",
   "execution_count": 9,
   "id": "2343cfa2-be1a-4d58-9e20-15ec74e12b68",
   "metadata": {},
   "outputs": [],
   "source": [
    "cm=np.cov(X_scaled.T)"
   ]
  },
  {
   "cell_type": "code",
   "execution_count": 10,
   "id": "6d2d8842-fc97-43fc-a98d-29a577fdd9a3",
   "metadata": {},
   "outputs": [
    {
     "data": {
      "text/plain": [
       "array([[ 1.00564972,  0.09493026,  0.21273976, -0.31198788,  0.27232816,\n",
       "         0.29073446,  0.23815287, -0.15681042,  0.13747022,  0.549451  ,\n",
       "        -0.07215255,  0.07275191,  0.64735687],\n",
       "       [ 0.09493026,  1.00564972,  0.16497228,  0.29013035, -0.05488343,\n",
       "        -0.3370606 , -0.41332866,  0.29463237, -0.22199334,  0.25039204,\n",
       "        -0.56446685, -0.37079354, -0.19309537],\n",
       "       [ 0.21273976,  0.16497228,  1.00564972,  0.44587209,  0.28820583,\n",
       "         0.12970824,  0.11572743,  0.1872826 ,  0.00970647,  0.2603499 ,\n",
       "        -0.07508874,  0.00393333,  0.22488969],\n",
       "       [-0.31198788,  0.29013035,  0.44587209,  1.00564972, -0.0838039 ,\n",
       "        -0.32292752, -0.353355  ,  0.36396647, -0.19844168,  0.01883781,\n",
       "        -0.27550299, -0.27833221, -0.44308618],\n",
       "       [ 0.27232816, -0.05488343,  0.28820583, -0.0838039 ,  1.00564972,\n",
       "         0.21561254,  0.19688989, -0.25774204,  0.23777643,  0.20107967,\n",
       "         0.05571118,  0.06637684,  0.39557317],\n",
       "       [ 0.29073446, -0.3370606 ,  0.12970824, -0.32292752,  0.21561254,\n",
       "         1.00564972,  0.86944804, -0.45247731,  0.61587304, -0.05544792,\n",
       "         0.43613151,  0.70390388,  0.50092909],\n",
       "       [ 0.23815287, -0.41332866,  0.11572743, -0.353355  ,  0.19688989,\n",
       "         0.86944804,  1.00564972, -0.54093859,  0.65637929, -0.17335329,\n",
       "         0.54654907,  0.79164133,  0.49698518],\n",
       "       [-0.15681042,  0.29463237,  0.1872826 ,  0.36396647, -0.25774204,\n",
       "        -0.45247731, -0.54093859,  1.00564972, -0.36791202,  0.13984265,\n",
       "        -0.26412347, -0.50611293, -0.31314443],\n",
       "       [ 0.13747022, -0.22199334,  0.00970647, -0.19844168,  0.23777643,\n",
       "         0.61587304,  0.65637929, -0.36791202,  1.00564972, -0.02539259,\n",
       "         0.29721399,  0.52199968,  0.33228346],\n",
       "       [ 0.549451  ,  0.25039204,  0.2603499 ,  0.01883781,  0.20107967,\n",
       "        -0.05544792, -0.17335329,  0.13984265, -0.02539259,  1.00564972,\n",
       "        -0.52476129, -0.43123763,  0.31788599],\n",
       "       [-0.07215255, -0.56446685, -0.07508874, -0.27550299,  0.05571118,\n",
       "         0.43613151,  0.54654907, -0.26412347,  0.29721399, -0.52476129,\n",
       "         1.00564972,  0.56866303,  0.23751782],\n",
       "       [ 0.07275191, -0.37079354,  0.00393333, -0.27833221,  0.06637684,\n",
       "         0.70390388,  0.79164133, -0.50611293,  0.52199968, -0.43123763,\n",
       "         0.56866303,  1.00564972,  0.31452809],\n",
       "       [ 0.64735687, -0.19309537,  0.22488969, -0.44308618,  0.39557317,\n",
       "         0.50092909,  0.49698518, -0.31314443,  0.33228346,  0.31788599,\n",
       "         0.23751782,  0.31452809,  1.00564972]])"
      ]
     },
     "execution_count": 10,
     "metadata": {},
     "output_type": "execute_result"
    }
   ],
   "source": [
    "cm"
   ]
  },
  {
   "cell_type": "code",
   "execution_count": 11,
   "id": "0346357f-e1f5-4ef9-bb0f-ead7fa798add",
   "metadata": {},
   "outputs": [
    {
     "data": {
      "text/plain": [
       "(13, 13)"
      ]
     },
     "execution_count": 11,
     "metadata": {},
     "output_type": "execute_result"
    }
   ],
   "source": [
    "cm.shape"
   ]
  },
  {
   "cell_type": "markdown",
   "id": "c6b78a82-42c9-4166-b9d4-e736954396d0",
   "metadata": {},
   "source": [
    "## Finding eigen value, eigen vector"
   ]
  },
  {
   "cell_type": "code",
   "execution_count": 12,
   "id": "b9fac5b4-3391-41b7-a8c0-48c2cbc22336",
   "metadata": {},
   "outputs": [
    {
     "data": {
      "text/plain": [
       "array([4.73243698, 2.51108093, 1.45424187, 0.92416587, 0.85804868,\n",
       "       0.64528221, 0.55414147, 0.10396199, 0.35046627, 0.16972374,\n",
       "       0.29051203, 0.22706428, 0.25232001])"
      ]
     },
     "execution_count": 12,
     "metadata": {},
     "output_type": "execute_result"
    }
   ],
   "source": [
    "eig_val,eig_vec=np.linalg.eig(cm)\n",
    "eig_val"
   ]
  },
  {
   "cell_type": "code",
   "execution_count": 13,
   "id": "4168d0ad-4446-4531-a977-cf7fd6fe88df",
   "metadata": {},
   "outputs": [
    {
     "data": {
      "text/plain": [
       "array([[-0.1443294 ,  0.48365155,  0.20738262, -0.0178563 , -0.26566365,\n",
       "         0.21353865,  0.05639636, -0.01496997,  0.39613926, -0.26628645,\n",
       "        -0.50861912, -0.22591696,  0.21160473],\n",
       "       [ 0.24518758,  0.22493093, -0.08901289,  0.53689028,  0.03521363,\n",
       "         0.53681385, -0.42052391, -0.02596375,  0.06582674,  0.12169604,\n",
       "         0.07528304,  0.07648554, -0.30907994],\n",
       "       [ 0.00205106,  0.31606881, -0.6262239 , -0.21417556, -0.14302547,\n",
       "         0.15447466,  0.14917061,  0.14121803, -0.17026002, -0.04962237,\n",
       "         0.30769445, -0.49869142, -0.02712539],\n",
       "       [ 0.23932041, -0.0105905 , -0.61208035,  0.06085941,  0.06610294,\n",
       "        -0.10082451,  0.28696914, -0.09168285,  0.42797018, -0.05574287,\n",
       "        -0.20044931,  0.47931378,  0.05279942],\n",
       "       [-0.14199204,  0.299634  , -0.13075693, -0.35179658,  0.72704851,\n",
       "         0.03814394, -0.3228833 , -0.05677422, -0.15636143,  0.06222011,\n",
       "        -0.27140257,  0.07128891,  0.06787022],\n",
       "       [-0.39466085,  0.06503951, -0.14617896,  0.19806835, -0.14931841,\n",
       "        -0.0841223 ,  0.02792498,  0.46390791, -0.40593409, -0.30388245,\n",
       "        -0.28603452,  0.30434119, -0.32013135],\n",
       "       [-0.4229343 , -0.00335981, -0.1506819 ,  0.15229479, -0.10902584,\n",
       "        -0.01892002,  0.06068521, -0.83225706, -0.18724536, -0.04289883,\n",
       "        -0.04957849, -0.02569409, -0.16315051],\n",
       "       [ 0.2985331 ,  0.02877949, -0.17036816, -0.20330102, -0.50070298,\n",
       "        -0.25859401, -0.59544729, -0.11403985, -0.23328465,  0.04235219,\n",
       "        -0.19550132,  0.11689586,  0.21553507],\n",
       "       [-0.31342949,  0.03930172, -0.14945431,  0.39905653,  0.13685982,\n",
       "        -0.53379539, -0.37213935,  0.11691707,  0.36822675, -0.09555303,\n",
       "         0.20914487, -0.23736257,  0.1341839 ],\n",
       "       [ 0.0886167 ,  0.52999567,  0.13730621,  0.06592568, -0.07643678,\n",
       "        -0.41864414,  0.22771214,  0.0119928 , -0.03379692,  0.60422163,\n",
       "        -0.05621752,  0.0318388 , -0.29077518],\n",
       "       [-0.29671456, -0.27923515, -0.08522192, -0.42777141, -0.17361452,\n",
       "         0.10598274, -0.23207564,  0.08988884,  0.43662362,  0.259214  ,\n",
       "        -0.08582839, -0.04821201, -0.52239889],\n",
       "       [-0.37616741, -0.16449619, -0.16600459,  0.18412074, -0.10116099,\n",
       "         0.26585107,  0.0447637 ,  0.15671813, -0.07810789,  0.60095872,\n",
       "        -0.1372269 ,  0.0464233 ,  0.52370587],\n",
       "       [-0.28675223,  0.36490283,  0.12674592, -0.23207086, -0.1578688 ,\n",
       "         0.11972557, -0.0768045 , -0.01444734,  0.12002267, -0.07940162,\n",
       "         0.57578611,  0.53926983,  0.162116  ]])"
      ]
     },
     "execution_count": 13,
     "metadata": {},
     "output_type": "execute_result"
    }
   ],
   "source": [
    "eig_vec"
   ]
  },
  {
   "cell_type": "markdown",
   "id": "39ebb07c-07d2-4399-8b14-2d1a8d3ed448",
   "metadata": {},
   "source": [
    "## Sorting eigen values"
   ]
  },
  {
   "cell_type": "code",
   "execution_count": 14,
   "id": "8e2e8771-71d1-47d2-ab39-0ea321ae9433",
   "metadata": {},
   "outputs": [
    {
     "data": {
      "text/plain": [
       "[4.732436977583596,\n",
       " 2.511080929645129,\n",
       " 1.4542418678464684,\n",
       " 0.9241658668248747,\n",
       " 0.8580486765371116,\n",
       " 0.6452822124678548,\n",
       " 0.5541414662457838,\n",
       " 0.350466274946254,\n",
       " 0.29051203269397746,\n",
       " 0.2523200103608248,\n",
       " 0.2270642817308851,\n",
       " 0.16972373898012155,\n",
       " 0.10396199182075329]"
      ]
     },
     "execution_count": 14,
     "metadata": {},
     "output_type": "execute_result"
    }
   ],
   "source": [
    "sorted_eig_val=[i for i in sorted(eig_val, reverse=True)]\n",
    "sorted_eig_val"
   ]
  },
  {
   "cell_type": "markdown",
   "id": "8c408ce9-f887-42c0-8320-4467c4da04ab",
   "metadata": {},
   "source": [
    "## Finding cumulative value"
   ]
  },
  {
   "cell_type": "code",
   "execution_count": 15,
   "id": "33ca4ccb-afaa-4588-abde-ec7ec411176d",
   "metadata": {},
   "outputs": [
    {
     "data": {
      "text/plain": [
       "13.073446327683632"
      ]
     },
     "execution_count": 15,
     "metadata": {},
     "output_type": "execute_result"
    }
   ],
   "source": [
    "tot=sum(sorted_eig_val)\n",
    "tot"
   ]
  },
  {
   "cell_type": "code",
   "execution_count": 16,
   "id": "68f39e29-e457-4fb7-8b5f-c938aec67ec6",
   "metadata": {},
   "outputs": [
    {
     "data": {
      "text/plain": [
       "[0.3619884809992634,\n",
       " 0.19207490257008958,\n",
       " 0.11123630536249982,\n",
       " 0.07069030182714028,\n",
       " 0.06563293679648598,\n",
       " 0.04935823319222565,\n",
       " 0.04238679322623319,\n",
       " 0.026807489483788624,\n",
       " 0.022221534047897125,\n",
       " 0.019300190939440767,\n",
       " 0.017368356899899143,\n",
       " 0.012982325756042126,\n",
       " 0.007952148898994515]"
      ]
     },
     "execution_count": 16,
     "metadata": {},
     "output_type": "execute_result"
    }
   ],
   "source": [
    "exp_var=[(i/tot) for i in sorted_eig_val]\n",
    "exp_var"
   ]
  },
  {
   "cell_type": "code",
   "execution_count": 17,
   "id": "519bc0ce-1479-4b72-b446-2779a7ab7117",
   "metadata": {},
   "outputs": [
    {
     "data": {
      "text/plain": [
       "array([0.36198848, 0.55406338, 0.66529969, 0.73598999, 0.80162293,\n",
       "       0.85098116, 0.89336795, 0.92017544, 0.94239698, 0.96169717,\n",
       "       0.97906553, 0.99204785, 1.        ])"
      ]
     },
     "execution_count": 17,
     "metadata": {},
     "output_type": "execute_result"
    }
   ],
   "source": [
    "cum_exp_var=np.cumsum(exp_var)\n",
    "cum_exp_var"
   ]
  },
  {
   "cell_type": "markdown",
   "id": "1e0eb465-bf55-40f0-8079-5a8f08de3390",
   "metadata": {},
   "source": [
    "## Plotting"
   ]
  },
  {
   "cell_type": "code",
   "execution_count": 18,
   "id": "d0738984-84df-4f4f-ae8a-1242c0f7e380",
   "metadata": {},
   "outputs": [
    {
     "data": {
      "image/png": "[encoded data removed]",
      "text/plain": [
       "<Figure size 640x480 with 1 Axes>"
      ]
     },
     "metadata": {},
     "output_type": "display_data"
    }
   ],
   "source": [
    "plt.bar(range(1,14),exp_var,label='Explained variance')\n",
    "plt.xlabel('Principal Component')\n",
    "plt.ylabel('Explained variance')\n",
    "plt.legend();"
   ]
  },
  {
   "cell_type": "markdown",
   "id": "1c74368d-708b-434f-b626-0268fd1aa58f",
   "metadata": {},
   "source": [
    "## Construction of a projection matrix"
   ]
  },
  {
   "cell_type": "code",
   "execution_count": 19,
   "id": "1962c983-f27b-4e12-b271-9d9a506a529b",
   "metadata": {},
   "outputs": [
    {
     "data": {
      "text/plain": [
       "[(4.732436977583596,\n",
       "  array([-0.1443294 ,  0.24518758,  0.00205106,  0.23932041, -0.14199204,\n",
       "         -0.39466085, -0.4229343 ,  0.2985331 , -0.31342949,  0.0886167 ,\n",
       "         -0.29671456, -0.37616741, -0.28675223])),\n",
       " (2.511080929645129,\n",
       "  array([ 0.48365155,  0.22493093,  0.31606881, -0.0105905 ,  0.299634  ,\n",
       "          0.06503951, -0.00335981,  0.02877949,  0.03930172,  0.52999567,\n",
       "         -0.27923515, -0.16449619,  0.36490283])),\n",
       " (1.4542418678464684,\n",
       "  array([ 0.20738262, -0.08901289, -0.6262239 , -0.61208035, -0.13075693,\n",
       "         -0.14617896, -0.1506819 , -0.17036816, -0.14945431,  0.13730621,\n",
       "         -0.08522192, -0.16600459,  0.12674592])),\n",
       " (0.9241658668248747,\n",
       "  array([-0.0178563 ,  0.53689028, -0.21417556,  0.06085941, -0.35179658,\n",
       "          0.19806835,  0.15229479, -0.20330102,  0.39905653,  0.06592568,\n",
       "         -0.42777141,  0.18412074, -0.23207086])),\n",
       " (0.8580486765371116,\n",
       "  array([-0.26566365,  0.03521363, -0.14302547,  0.06610294,  0.72704851,\n",
       "         -0.14931841, -0.10902584, -0.50070298,  0.13685982, -0.07643678,\n",
       "         -0.17361452, -0.10116099, -0.1578688 ])),\n",
       " (0.6452822124678548,\n",
       "  array([ 0.21353865,  0.53681385,  0.15447466, -0.10082451,  0.03814394,\n",
       "         -0.0841223 , -0.01892002, -0.25859401, -0.53379539, -0.41864414,\n",
       "          0.10598274,  0.26585107,  0.11972557])),\n",
       " (0.5541414662457838,\n",
       "  array([ 0.05639636, -0.42052391,  0.14917061,  0.28696914, -0.3228833 ,\n",
       "          0.02792498,  0.06068521, -0.59544729, -0.37213935,  0.22771214,\n",
       "         -0.23207564,  0.0447637 , -0.0768045 ])),\n",
       " (0.10396199182075329,\n",
       "  array([-0.01496997, -0.02596375,  0.14121803, -0.09168285, -0.05677422,\n",
       "          0.46390791, -0.83225706, -0.11403985,  0.11691707,  0.0119928 ,\n",
       "          0.08988884,  0.15671813, -0.01444734])),\n",
       " (0.350466274946254,\n",
       "  array([ 0.39613926,  0.06582674, -0.17026002,  0.42797018, -0.15636143,\n",
       "         -0.40593409, -0.18724536, -0.23328465,  0.36822675, -0.03379692,\n",
       "          0.43662362, -0.07810789,  0.12002267])),\n",
       " (0.16972373898012155,\n",
       "  array([-0.26628645,  0.12169604, -0.04962237, -0.05574287,  0.06222011,\n",
       "         -0.30388245, -0.04289883,  0.04235219, -0.09555303,  0.60422163,\n",
       "          0.259214  ,  0.60095872, -0.07940162])),\n",
       " (0.29051203269397746,\n",
       "  array([-0.50861912,  0.07528304,  0.30769445, -0.20044931, -0.27140257,\n",
       "         -0.28603452, -0.04957849, -0.19550132,  0.20914487, -0.05621752,\n",
       "         -0.08582839, -0.1372269 ,  0.57578611])),\n",
       " (0.2270642817308851,\n",
       "  array([-0.22591696,  0.07648554, -0.49869142,  0.47931378,  0.07128891,\n",
       "          0.30434119, -0.02569409,  0.11689586, -0.23736257,  0.0318388 ,\n",
       "         -0.04821201,  0.0464233 ,  0.53926983])),\n",
       " (0.2523200103608248,\n",
       "  array([ 0.21160473, -0.30907994, -0.02712539,  0.05279942,  0.06787022,\n",
       "         -0.32013135, -0.16315051,  0.21553507,  0.1341839 , -0.29077518,\n",
       "         -0.52239889,  0.52370587,  0.162116  ]))]"
      ]
     },
     "execution_count": 19,
     "metadata": {},
     "output_type": "execute_result"
    }
   ],
   "source": [
    "eigen_pair=[(np.abs(eig_val[i]),eig_vec[:,i]) for i in range(len(eig_val))]\n",
    "eigen_pair"
   ]
  },
  {
   "cell_type": "markdown",
   "id": "7b4b1d1b-fc82-42ff-a77b-e31f0bbdadd6",
   "metadata": {},
   "source": [
    "## Choosing dimension to be 2"
   ]
  },
  {
   "cell_type": "code",
   "execution_count": 20,
   "id": "05a5cea1-5169-4556-b782-a59d3ed4d4eb",
   "metadata": {},
   "outputs": [],
   "source": [
    "w=np.hstack((eigen_pair[0][1][:,np.newaxis],\n",
    "            eigen_pair[1][1][:,np.newaxis]))"
   ]
  },
  {
   "cell_type": "code",
   "execution_count": 21,
   "id": "b2313253-9e69-4407-8e22-487ac7f8b20a",
   "metadata": {},
   "outputs": [
    {
     "data": {
      "text/plain": [
       "array([[-0.1443294 ,  0.48365155],\n",
       "       [ 0.24518758,  0.22493093],\n",
       "       [ 0.00205106,  0.31606881],\n",
       "       [ 0.23932041, -0.0105905 ],\n",
       "       [-0.14199204,  0.299634  ],\n",
       "       [-0.39466085,  0.06503951],\n",
       "       [-0.4229343 , -0.00335981],\n",
       "       [ 0.2985331 ,  0.02877949],\n",
       "       [-0.31342949,  0.03930172],\n",
       "       [ 0.0886167 ,  0.52999567],\n",
       "       [-0.29671456, -0.27923515],\n",
       "       [-0.37616741, -0.16449619],\n",
       "       [-0.28675223,  0.36490283]])"
      ]
     },
     "execution_count": 21,
     "metadata": {},
     "output_type": "execute_result"
    }
   ],
   "source": [
    "w"
   ]
  },
  {
   "cell_type": "code",
   "execution_count": 22,
   "id": "ea738cf9-e982-47ec-a243-219685e06444",
   "metadata": {},
   "outputs": [
    {
     "data": {
      "text/plain": [
       "(13, 2)"
      ]
     },
     "execution_count": 22,
     "metadata": {},
     "output_type": "execute_result"
    }
   ],
   "source": [
    "w.shape"
   ]
  },
  {
   "cell_type": "markdown",
   "id": "f11a7264-a440-475c-a70c-4e9201ccd040",
   "metadata": {},
   "source": [
    "## Ttransforming 13 dim to 2 dim"
   ]
  },
  {
   "cell_type": "code",
   "execution_count": 23,
   "id": "823abde1-a367-44bd-b19a-07cf5cd2ccca",
   "metadata": {},
   "outputs": [
    {
     "data": {
      "text/plain": [
       "(178, 13)"
      ]
     },
     "execution_count": 23,
     "metadata": {},
     "output_type": "execute_result"
    }
   ],
   "source": [
    "X_scaled.shape"
   ]
  },
  {
   "cell_type": "code",
   "execution_count": 24,
   "id": "5931c453-3fa4-4598-8af5-02a85735a0c2",
   "metadata": {},
   "outputs": [
    {
     "data": {
      "text/plain": [
       "(13, 2)"
      ]
     },
     "execution_count": 24,
     "metadata": {},
     "output_type": "execute_result"
    }
   ],
   "source": [
    "w.shape"
   ]
  },
  {
   "cell_type": "code",
   "execution_count": 25,
   "id": "0fd95c3d-afaa-492c-aa20-efcc8c4e334c",
   "metadata": {},
   "outputs": [
    {
     "data": {
      "text/plain": [
       "array([[-3.31675081,  1.44346263],\n",
       "       [-2.20946492, -0.33339289],\n",
       "       [-2.51674015,  1.0311513 ],\n",
       "       [-3.75706561,  2.75637191],\n",
       "       [-1.00890849,  0.86983082],\n",
       "       [-3.05025392,  2.12240111],\n",
       "       [-2.44908967,  1.17485013],\n",
       "       [-2.05943687,  1.60896307],\n",
       "       [-2.5108743 ,  0.91807096],\n",
       "       [-2.75362819,  0.78943767],\n",
       "       [-3.47973668,  1.30233324],\n",
       "       [-1.7547529 ,  0.61197723],\n",
       "       [-2.11346234,  0.67570634],\n",
       "       [-3.45815682,  1.13062988],\n",
       "       [-4.31278391,  2.09597558],\n",
       "       [-2.3051882 ,  1.66255173],\n",
       "       [-2.17195527,  2.32730534],\n",
       "       [-1.89897118,  1.63136888],\n",
       "       [-3.54198508,  2.51834367],\n",
       "       [-2.0845222 ,  1.06113799],\n",
       "       [-3.12440254,  0.78689711],\n",
       "       [-1.08657007,  0.24174355],\n",
       "       [-2.53522408, -0.09184062],\n",
       "       [-1.64498834, -0.51627893],\n",
       "       [-1.76157587, -0.31714893],\n",
       "       [-0.9900791 ,  0.94066734],\n",
       "       [-1.77527763,  0.68617513],\n",
       "       [-1.23542396, -0.08980704],\n",
       "       [-2.18840633,  0.68956962],\n",
       "       [-2.25610898,  0.19146194],\n",
       "       [-2.50022003,  1.24083383],\n",
       "       [-2.67741105,  1.47187365],\n",
       "       [-1.62857912,  0.05270445],\n",
       "       [-1.90269086,  1.63306043],\n",
       "       [-1.41038853,  0.69793432],\n",
       "       [-1.90382623,  0.17671095],\n",
       "       [-1.38486223,  0.65863985],\n",
       "       [-1.12220741,  0.11410976],\n",
       "       [-1.5021945 , -0.76943201],\n",
       "       [-2.52980109,  1.80300198],\n",
       "       [-2.58809543,  0.7796163 ],\n",
       "       [-0.66848199,  0.16996094],\n",
       "       [-3.07080699,  1.15591896],\n",
       "       [-0.46220914,  0.33074213],\n",
       "       [-2.10135193, -0.07100892],\n",
       "       [-1.13616618,  1.77710739],\n",
       "       [-2.72660096,  1.19133469],\n",
       "       [-2.82133927,  0.6462586 ],\n",
       "       [-2.00985085,  1.24702946],\n",
       "       [-2.7074913 ,  1.75196741],\n",
       "       [-3.21491747,  0.16699199],\n",
       "       [-2.85895983,  0.7452788 ],\n",
       "       [-3.50560436,  1.61273386],\n",
       "       [-2.22479138,  1.875168  ],\n",
       "       [-2.14698782,  1.01675154],\n",
       "       [-2.46932948,  1.32900831],\n",
       "       [-2.74151791,  1.43654878],\n",
       "       [-2.17374092,  1.21219984],\n",
       "       [-3.13938015,  1.73157912],\n",
       "       [ 0.92858197, -3.07348616],\n",
       "       [ 1.54248014, -1.38144351],\n",
       "       [ 1.83624976, -0.82998412],\n",
       "       [-0.03060683, -1.26278614],\n",
       "       [-2.05026161, -1.9250326 ],\n",
       "       [ 0.60968083, -1.90805881],\n",
       "       [-0.90022784, -0.76391147],\n",
       "       [-2.24850719, -1.88459248],\n",
       "       [-0.18338403, -2.42714611],\n",
       "       [ 0.81280503, -0.22051399],\n",
       "       [-1.9756205 , -1.40328323],\n",
       "       [ 1.57221622, -0.88498314],\n",
       "       [-1.65768181, -0.9567122 ],\n",
       "       [ 0.72537239, -1.0636454 ],\n",
       "       [-2.56222717,  0.26019855],\n",
       "       [-1.83256757, -1.2878782 ],\n",
       "       [ 0.8679929 , -2.44410119],\n",
       "       [-0.3700144 , -2.15390698],\n",
       "       [ 1.45737704, -1.38335177],\n",
       "       [-1.26293085, -0.77084953],\n",
       "       [-0.37615037, -1.0270434 ],\n",
       "       [-0.7620639 , -3.37505381],\n",
       "       [-1.03457797, -1.45070974],\n",
       "       [ 0.49487676, -2.38124353],\n",
       "       [ 2.53897708, -0.08744336],\n",
       "       [-0.83532015, -1.47367055],\n",
       "       [-0.78790461, -2.02662652],\n",
       "       [ 0.80683216, -2.23383039],\n",
       "       [ 0.55804262, -2.37298543],\n",
       "       [ 1.11511104, -1.80224719],\n",
       "       [ 0.55572283, -2.65754004],\n",
       "       [ 1.34928528, -2.11800147],\n",
       "       [ 1.56448261, -1.85221452],\n",
       "       [ 1.93255561, -1.55949546],\n",
       "       [-0.74666594, -2.31293171],\n",
       "       [-0.95745536, -2.22352843],\n",
       "       [-2.54386518,  0.16927402],\n",
       "       [ 0.54395259, -0.36892655],\n",
       "       [-1.03104975, -2.56556935],\n",
       "       [-2.25190942, -1.43274138],\n",
       "       [-1.41021602, -2.16619177],\n",
       "       [-0.79771979, -2.3769488 ],\n",
       "       [ 0.54953173, -2.29312864],\n",
       "       [ 0.16117374, -1.16448332],\n",
       "       [ 0.65979494, -2.67996119],\n",
       "       [-0.39235441, -2.09873171],\n",
       "       [ 1.77249908, -1.71728847],\n",
       "       [ 0.36626736, -2.1693533 ],\n",
       "       [ 1.62067257, -1.35558339],\n",
       "       [-0.08253578, -2.30623459],\n",
       "       [-1.57827507, -1.46203429],\n",
       "       [-1.42056925, -1.41820664],\n",
       "       [ 0.27870275, -1.93056809],\n",
       "       [ 1.30314497, -0.76317231],\n",
       "       [ 0.45707187, -2.26941561],\n",
       "       [ 0.49418585, -1.93904505],\n",
       "       [-0.48207441, -3.87178385],\n",
       "       [ 0.25288888, -2.82149237],\n",
       "       [ 0.10722764, -1.92892204],\n",
       "       [ 2.4330126 , -1.25714104],\n",
       "       [ 0.55108954, -2.22216155],\n",
       "       [-0.73962193, -1.40895667],\n",
       "       [-1.33632173,  0.25333693],\n",
       "       [ 1.177087  , -0.66396684],\n",
       "       [ 0.46233501, -0.61828818],\n",
       "       [-0.97847408, -1.4455705 ],\n",
       "       [ 0.09680973, -2.10999799],\n",
       "       [-0.03848715, -1.26676211],\n",
       "       [ 1.5971585 , -1.20814357],\n",
       "       [ 0.47956492, -1.93884066],\n",
       "       [ 1.79283347, -1.1502881 ],\n",
       "       [ 1.32710166,  0.17038923],\n",
       "       [ 2.38450083,  0.37458261],\n",
       "       [ 2.9369401 ,  0.26386183],\n",
       "       [ 2.14681113,  0.36825495],\n",
       "       [ 2.36986949, -0.45963481],\n",
       "       [ 3.06384157,  0.35341284],\n",
       "       [ 3.91575378,  0.15458252],\n",
       "       [ 3.93646339,  0.65968723],\n",
       "       [ 3.09427612,  0.34884276],\n",
       "       [ 2.37447163,  0.29198035],\n",
       "       [ 2.77881295,  0.28680487],\n",
       "       [ 2.28656128,  0.37250784],\n",
       "       [ 2.98563349,  0.48921791],\n",
       "       [ 2.3751947 ,  0.48233372],\n",
       "       [ 2.20986553,  1.1600525 ],\n",
       "       [ 2.625621  ,  0.56316076],\n",
       "       [ 4.28063878,  0.64967096],\n",
       "       [ 3.58264137,  1.27270275],\n",
       "       [ 2.80706372,  1.57053379],\n",
       "       [ 2.89965933,  2.04105701],\n",
       "       [ 2.32073698,  2.35636608],\n",
       "       [ 2.54983095,  2.04528309],\n",
       "       [ 1.81254128,  1.52764595],\n",
       "       [ 2.76014464,  2.13893235],\n",
       "       [ 2.7371505 ,  0.40988627],\n",
       "       [ 3.60486887,  1.80238422],\n",
       "       [ 2.889826  ,  1.92521861],\n",
       "       [ 3.39215608,  1.31187639],\n",
       "       [ 1.0481819 ,  3.51508969],\n",
       "       [ 1.60991228,  2.40663816],\n",
       "       [ 3.14313097,  0.73816104],\n",
       "       [ 2.2401569 ,  1.17546529],\n",
       "       [ 2.84767378,  0.55604397],\n",
       "       [ 2.59749706,  0.69796554],\n",
       "       [ 2.94929937,  1.55530896],\n",
       "       [ 3.53003227,  0.8825268 ],\n",
       "       [ 2.40611054,  2.59235618],\n",
       "       [ 2.92908473,  1.27444695],\n",
       "       [ 2.18141278,  2.07753731],\n",
       "       [ 2.38092779,  2.58866743],\n",
       "       [ 3.21161722, -0.2512491 ],\n",
       "       [ 3.67791872,  0.84774784],\n",
       "       [ 2.4655558 ,  2.1937983 ],\n",
       "       [ 3.37052415,  2.21628914],\n",
       "       [ 2.60195585,  1.75722935],\n",
       "       [ 2.67783946,  2.76089913],\n",
       "       [ 2.38701709,  2.29734668],\n",
       "       [ 3.20875816,  2.76891957]])"
      ]
     },
     "execution_count": 25,
     "metadata": {},
     "output_type": "execute_result"
    }
   ],
   "source": [
    "new_X=X_scaled.dot(w)\n",
    "new_X"
   ]
  },
  {
   "cell_type": "code",
   "execution_count": 26,
   "id": "4c38d80d-9d1c-4209-9c7c-dac8bb18be8f",
   "metadata": {},
   "outputs": [
    {
     "data": {
      "text/plain": [
       "(178, 2)"
      ]
     },
     "execution_count": 26,
     "metadata": {},
     "output_type": "execute_result"
    }
   ],
   "source": [
    "new_X.shape"
   ]
  },
  {
   "cell_type": "markdown",
   "id": "ab9db991-6374-4afc-ac6f-ecba6e685ac5",
   "metadata": {},
   "source": [
    "## Visualising "
   ]
  },
  {
   "cell_type": "code",
   "execution_count": 27,
   "id": "0efa4cfc-64f6-465f-bb67-5cb2f9da7fff",
   "metadata": {},
   "outputs": [
    {
     "data": {
      "image/png": "[encoded data removed]",
      "text/plain": [
       "<Figure size 640x480 with 1 Axes>"
      ]
     },
     "metadata": {},
     "output_type": "display_data"
    }
   ],
   "source": [
    "for l in np.unique(y):\n",
    "    plt.scatter(new_X[y==1,0],new_X[y==1,1],marker='s')\n",
    "    plt.scatter(new_X[y==2,0],new_X[y==2,1],marker='x')\n",
    "    plt.scatter(new_X[y==3,0],new_X[y==3,1],marker='*')"
   ]
  },
  {
   "cell_type": "markdown",
   "id": "12da565a-cf96-4200-898e-363a8d780d06",
   "metadata": {},
   "source": [
    "## Using sklearn"
   ]
  },
  {
   "cell_type": "code",
   "execution_count": 28,
   "id": "f4bbb590-42e1-4d75-bd7b-b808b7e9c70d",
   "metadata": {},
   "outputs": [],
   "source": [
    "from sklearn.decomposition import PCA"
   ]
  },
  {
   "cell_type": "code",
   "execution_count": 29,
   "id": "8c6b0dbd-21a4-45f1-8afe-be628bf2806f",
   "metadata": {},
   "outputs": [],
   "source": [
    "pca=PCA(n_components=2)\n",
    "X_pca=pca.fit_transform(X_scaled)"
   ]
  },
  {
   "cell_type": "code",
   "execution_count": 30,
   "id": "6cda2a27-ba21-4df6-a3ba-2a94367a083a",
   "metadata": {},
   "outputs": [
    {
     "data": {
      "text/plain": [
       "array([[ 3.31675081, -1.44346263],\n",
       "       [ 2.20946492,  0.33339289],\n",
       "       [ 2.51674015, -1.0311513 ],\n",
       "       [ 3.75706561, -2.75637191],\n",
       "       [ 1.00890849, -0.86983082],\n",
       "       [ 3.05025392, -2.12240111],\n",
       "       [ 2.44908967, -1.17485013],\n",
       "       [ 2.05943687, -1.60896307],\n",
       "       [ 2.5108743 , -0.91807096],\n",
       "       [ 2.75362819, -0.78943767],\n",
       "       [ 3.47973668, -1.30233324],\n",
       "       [ 1.7547529 , -0.61197723],\n",
       "       [ 2.11346234, -0.67570634],\n",
       "       [ 3.45815682, -1.13062988],\n",
       "       [ 4.31278391, -2.09597558],\n",
       "       [ 2.3051882 , -1.66255173],\n",
       "       [ 2.17195527, -2.32730534],\n",
       "       [ 1.89897118, -1.63136888],\n",
       "       [ 3.54198508, -2.51834367],\n",
       "       [ 2.0845222 , -1.06113799],\n",
       "       [ 3.12440254, -0.78689711],\n",
       "       [ 1.08657007, -0.24174355],\n",
       "       [ 2.53522408,  0.09184062],\n",
       "       [ 1.64498834,  0.51627893],\n",
       "       [ 1.76157587,  0.31714893],\n",
       "       [ 0.9900791 , -0.94066734],\n",
       "       [ 1.77527763, -0.68617513],\n",
       "       [ 1.23542396,  0.08980704],\n",
       "       [ 2.18840633, -0.68956962],\n",
       "       [ 2.25610898, -0.19146194],\n",
       "       [ 2.50022003, -1.24083383],\n",
       "       [ 2.67741105, -1.47187365],\n",
       "       [ 1.62857912, -0.05270445],\n",
       "       [ 1.90269086, -1.63306043],\n",
       "       [ 1.41038853, -0.69793432],\n",
       "       [ 1.90382623, -0.17671095],\n",
       "       [ 1.38486223, -0.65863985],\n",
       "       [ 1.12220741, -0.11410976],\n",
       "       [ 1.5021945 ,  0.76943201],\n",
       "       [ 2.52980109, -1.80300198],\n",
       "       [ 2.58809543, -0.7796163 ],\n",
       "       [ 0.66848199, -0.16996094],\n",
       "       [ 3.07080699, -1.15591896],\n",
       "       [ 0.46220914, -0.33074213],\n",
       "       [ 2.10135193,  0.07100892],\n",
       "       [ 1.13616618, -1.77710739],\n",
       "       [ 2.72660096, -1.19133469],\n",
       "       [ 2.82133927, -0.6462586 ],\n",
       "       [ 2.00985085, -1.24702946],\n",
       "       [ 2.7074913 , -1.75196741],\n",
       "       [ 3.21491747, -0.16699199],\n",
       "       [ 2.85895983, -0.7452788 ],\n",
       "       [ 3.50560436, -1.61273386],\n",
       "       [ 2.22479138, -1.875168  ],\n",
       "       [ 2.14698782, -1.01675154],\n",
       "       [ 2.46932948, -1.32900831],\n",
       "       [ 2.74151791, -1.43654878],\n",
       "       [ 2.17374092, -1.21219984],\n",
       "       [ 3.13938015, -1.73157912],\n",
       "       [-0.92858197,  3.07348616],\n",
       "       [-1.54248014,  1.38144351],\n",
       "       [-1.83624976,  0.82998412],\n",
       "       [ 0.03060683,  1.26278614],\n",
       "       [ 2.05026161,  1.9250326 ],\n",
       "       [-0.60968083,  1.90805881],\n",
       "       [ 0.90022784,  0.76391147],\n",
       "       [ 2.24850719,  1.88459248],\n",
       "       [ 0.18338403,  2.42714611],\n",
       "       [-0.81280503,  0.22051399],\n",
       "       [ 1.9756205 ,  1.40328323],\n",
       "       [-1.57221622,  0.88498314],\n",
       "       [ 1.65768181,  0.9567122 ],\n",
       "       [-0.72537239,  1.0636454 ],\n",
       "       [ 2.56222717, -0.26019855],\n",
       "       [ 1.83256757,  1.2878782 ],\n",
       "       [-0.8679929 ,  2.44410119],\n",
       "       [ 0.3700144 ,  2.15390698],\n",
       "       [-1.45737704,  1.38335177],\n",
       "       [ 1.26293085,  0.77084953],\n",
       "       [ 0.37615037,  1.0270434 ],\n",
       "       [ 0.7620639 ,  3.37505381],\n",
       "       [ 1.03457797,  1.45070974],\n",
       "       [-0.49487676,  2.38124353],\n",
       "       [-2.53897708,  0.08744336],\n",
       "       [ 0.83532015,  1.47367055],\n",
       "       [ 0.78790461,  2.02662652],\n",
       "       [-0.80683216,  2.23383039],\n",
       "       [-0.55804262,  2.37298543],\n",
       "       [-1.11511104,  1.80224719],\n",
       "       [-0.55572283,  2.65754004],\n",
       "       [-1.34928528,  2.11800147],\n",
       "       [-1.56448261,  1.85221452],\n",
       "       [-1.93255561,  1.55949546],\n",
       "       [ 0.74666594,  2.31293171],\n",
       "       [ 0.95745536,  2.22352843],\n",
       "       [ 2.54386518, -0.16927402],\n",
       "       [-0.54395259,  0.36892655],\n",
       "       [ 1.03104975,  2.56556935],\n",
       "       [ 2.25190942,  1.43274138],\n",
       "       [ 1.41021602,  2.16619177],\n",
       "       [ 0.79771979,  2.3769488 ],\n",
       "       [-0.54953173,  2.29312864],\n",
       "       [-0.16117374,  1.16448332],\n",
       "       [-0.65979494,  2.67996119],\n",
       "       [ 0.39235441,  2.09873171],\n",
       "       [-1.77249908,  1.71728847],\n",
       "       [-0.36626736,  2.1693533 ],\n",
       "       [-1.62067257,  1.35558339],\n",
       "       [ 0.08253578,  2.30623459],\n",
       "       [ 1.57827507,  1.46203429],\n",
       "       [ 1.42056925,  1.41820664],\n",
       "       [-0.27870275,  1.93056809],\n",
       "       [-1.30314497,  0.76317231],\n",
       "       [-0.45707187,  2.26941561],\n",
       "       [-0.49418585,  1.93904505],\n",
       "       [ 0.48207441,  3.87178385],\n",
       "       [-0.25288888,  2.82149237],\n",
       "       [-0.10722764,  1.92892204],\n",
       "       [-2.4330126 ,  1.25714104],\n",
       "       [-0.55108954,  2.22216155],\n",
       "       [ 0.73962193,  1.40895667],\n",
       "       [ 1.33632173, -0.25333693],\n",
       "       [-1.177087  ,  0.66396684],\n",
       "       [-0.46233501,  0.61828818],\n",
       "       [ 0.97847408,  1.4455705 ],\n",
       "       [-0.09680973,  2.10999799],\n",
       "       [ 0.03848715,  1.26676211],\n",
       "       [-1.5971585 ,  1.20814357],\n",
       "       [-0.47956492,  1.93884066],\n",
       "       [-1.79283347,  1.1502881 ],\n",
       "       [-1.32710166, -0.17038923],\n",
       "       [-2.38450083, -0.37458261],\n",
       "       [-2.9369401 , -0.26386183],\n",
       "       [-2.14681113, -0.36825495],\n",
       "       [-2.36986949,  0.45963481],\n",
       "       [-3.06384157, -0.35341284],\n",
       "       [-3.91575378, -0.15458252],\n",
       "       [-3.93646339, -0.65968723],\n",
       "       [-3.09427612, -0.34884276],\n",
       "       [-2.37447163, -0.29198035],\n",
       "       [-2.77881295, -0.28680487],\n",
       "       [-2.28656128, -0.37250784],\n",
       "       [-2.98563349, -0.48921791],\n",
       "       [-2.3751947 , -0.48233372],\n",
       "       [-2.20986553, -1.1600525 ],\n",
       "       [-2.625621  , -0.56316076],\n",
       "       [-4.28063878, -0.64967096],\n",
       "       [-3.58264137, -1.27270275],\n",
       "       [-2.80706372, -1.57053379],\n",
       "       [-2.89965933, -2.04105701],\n",
       "       [-2.32073698, -2.35636608],\n",
       "       [-2.54983095, -2.04528309],\n",
       "       [-1.81254128, -1.52764595],\n",
       "       [-2.76014464, -2.13893235],\n",
       "       [-2.7371505 , -0.40988627],\n",
       "       [-3.60486887, -1.80238422],\n",
       "       [-2.889826  , -1.92521861],\n",
       "       [-3.39215608, -1.31187639],\n",
       "       [-1.0481819 , -3.51508969],\n",
       "       [-1.60991228, -2.40663816],\n",
       "       [-3.14313097, -0.73816104],\n",
       "       [-2.2401569 , -1.17546529],\n",
       "       [-2.84767378, -0.55604397],\n",
       "       [-2.59749706, -0.69796554],\n",
       "       [-2.94929937, -1.55530896],\n",
       "       [-3.53003227, -0.8825268 ],\n",
       "       [-2.40611054, -2.59235618],\n",
       "       [-2.92908473, -1.27444695],\n",
       "       [-2.18141278, -2.07753731],\n",
       "       [-2.38092779, -2.58866743],\n",
       "       [-3.21161722,  0.2512491 ],\n",
       "       [-3.67791872, -0.84774784],\n",
       "       [-2.4655558 , -2.1937983 ],\n",
       "       [-3.37052415, -2.21628914],\n",
       "       [-2.60195585, -1.75722935],\n",
       "       [-2.67783946, -2.76089913],\n",
       "       [-2.38701709, -2.29734668],\n",
       "       [-3.20875816, -2.76891957]])"
      ]
     },
     "execution_count": 30,
     "metadata": {},
     "output_type": "execute_result"
    }
   ],
   "source": [
    "X_pca"
   ]
  },
  {
   "cell_type": "code",
   "execution_count": 31,
   "id": "b5a21981-7af5-48e8-b7c3-db8723ac4177",
   "metadata": {},
   "outputs": [
    {
     "data": {
      "text/plain": [
       "array([ 0.1443294 , -0.24518758, -0.00205106, -0.23932041,  0.14199204,\n",
       "        0.39466085,  0.4229343 , -0.2985331 ,  0.31342949, -0.0886167 ,\n",
       "        0.29671456,  0.37616741,  0.28675223])"
      ]
     },
     "execution_count": 31,
     "metadata": {},
     "output_type": "execute_result"
    }
   ],
   "source": [
    "pca.components_.T[:,0]"
   ]
  },
  {
   "cell_type": "code",
   "execution_count": 32,
   "id": "a3b28aac-2e83-46c6-9b9a-445c4f97b568",
   "metadata": {},
   "outputs": [
    {
     "data": {
      "text/plain": [
       "array([-0.48365155, -0.22493093, -0.31606881,  0.0105905 , -0.299634  ,\n",
       "       -0.06503951,  0.00335981, -0.02877949, -0.03930172, -0.52999567,\n",
       "        0.27923515,  0.16449619, -0.36490283])"
      ]
     },
     "execution_count": 32,
     "metadata": {},
     "output_type": "execute_result"
    }
   ],
   "source": [
    "pca.components_.T[:,1]"
   ]
  },
  {
   "cell_type": "code",
   "execution_count": 33,
   "id": "3d835514-56c1-43ee-a2df-37083d74d442",
   "metadata": {},
   "outputs": [
    {
     "data": {
      "text/plain": [
       "array([0.36198848, 0.1920749 ])"
      ]
     },
     "execution_count": 33,
     "metadata": {},
     "output_type": "execute_result"
    }
   ],
   "source": [
    "pca.explained_variance_ratio_"
   ]
  },
  {
   "cell_type": "code",
   "execution_count": null,
   "id": "ffc8600c-6d19-47db-999b-6bdd0048b35f",
   "metadata": {},
   "outputs": [],
   "source": []
  }
 ],
 "metadata": {
  "kernelspec": {
   "display_name": "Python 3 (ipykernel)",
   "language": "python",
   "name": "python3"
  },
  "language_info": {
   "codemirror_mode": {
    "name": "ipython",
    "version": 3
   },
   "file_extension": ".py",
   "mimetype": "text/x-python",
   "name": "python",
   "nbconvert_exporter": "python",
   "pygments_lexer": "ipython3",
   "version": "3.11.7"
  }
 },
 "nbformat": 4,
 "nbformat_minor": 5
}
